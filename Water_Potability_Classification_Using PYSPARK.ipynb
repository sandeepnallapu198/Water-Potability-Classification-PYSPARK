{
 "cells": [
  {
   "cell_type": "code",
   "execution_count": 33,
   "id": "33fc831d",
   "metadata": {},
   "outputs": [
    {
     "data": {
      "text/html": [
       "\n",
       "            <div>\n",
       "                <p><b>SparkSession - in-memory</b></p>\n",
       "                \n",
       "        <div>\n",
       "            <p><b>SparkContext</b></p>\n",
       "\n",
       "            <p><a href=\"http://DESKTOP-CLEV1R9:4040\">Spark UI</a></p>\n",
       "\n",
       "            <dl>\n",
       "              <dt>Version</dt>\n",
       "                <dd><code>v3.3.1</code></dd>\n",
       "              <dt>Master</dt>\n",
       "                <dd><code>local[*]</code></dd>\n",
       "              <dt>AppName</dt>\n",
       "                <dd><code>water_protability</code></dd>\n",
       "            </dl>\n",
       "        </div>\n",
       "        \n",
       "            </div>\n",
       "        "
      ],
      "text/plain": [
       "<pyspark.sql.session.SparkSession at 0x231ccdf58b0>"
      ]
     },
     "execution_count": 33,
     "metadata": {},
     "output_type": "execute_result"
    }
   ],
   "source": [
    "from pyspark.sql import SparkSession\n",
    "spark = SparkSession.builder.appName('water_protability').getOrCreate()\n",
    "spark"
   ]
  },
  {
   "cell_type": "code",
   "execution_count": 34,
   "id": "f0e1847b",
   "metadata": {},
   "outputs": [
    {
     "name": "stdout",
     "output_type": "stream",
     "text": [
      "+-----------------+------------------+------------------+-----------------+------------------+------------------+------------------+------------------+------------------+----------+\n",
      "|               ph|          Hardness|            Solids|      Chloramines|           Sulfate|      Conductivity|    Organic_carbon|   Trihalomethanes|         Turbidity|Potability|\n",
      "+-----------------+------------------+------------------+-----------------+------------------+------------------+------------------+------------------+------------------+----------+\n",
      "|             null| 204.8904554713363|20791.318980747026|7.300211873184757|368.51644134980336| 564.3086541722439|  10.3797830780847|  86.9909704615088|2.9631353806316407|         0|\n",
      "| 3.71608007538699|129.42292051494425|18630.057857970347|   6.635245883862|              null| 592.8853591348523|15.180013116357259| 56.32907628451764| 4.500656274942408|         0|\n",
      "|8.099124189298397|224.23625939355776|19909.541732292393|9.275883602694089|              null| 418.6062130644815|16.868636929550973| 66.42009251176368|3.0559337496641685|         0|\n",
      "|8.316765884214679|214.37339408562252|22018.417440775294| 8.05933237743854|356.88613564305666| 363.2665161642437|18.436524495493302|100.34167436508008| 4.628770536837084|         0|\n",
      "|9.092223456290965|181.10150923612525| 17978.98633892625|6.546599974207941|310.13573752420444|398.41081338184466|11.558279443446395|31.997992727424737| 4.075075425430034|         0|\n",
      "+-----------------+------------------+------------------+-----------------+------------------+------------------+------------------+------------------+------------------+----------+\n",
      "only showing top 5 rows\n",
      "\n"
     ]
    }
   ],
   "source": [
    "data = spark.read.csv(\"C:\\\\ML\\\\Machine-Learning-Projects-master\\\\Water Quality Classification\\\\water_potability.csv\",header = True,inferSchema = True)\n",
    "data.show(5)"
   ]
  },
  {
   "cell_type": "code",
   "execution_count": 35,
   "id": "cd5d1eec",
   "metadata": {},
   "outputs": [
    {
     "name": "stdout",
     "output_type": "stream",
     "text": [
      "root\n",
      " |-- ph: double (nullable = true)\n",
      " |-- Hardness: double (nullable = true)\n",
      " |-- Solids: double (nullable = true)\n",
      " |-- Chloramines: double (nullable = true)\n",
      " |-- Sulfate: double (nullable = true)\n",
      " |-- Conductivity: double (nullable = true)\n",
      " |-- Organic_carbon: double (nullable = true)\n",
      " |-- Trihalomethanes: double (nullable = true)\n",
      " |-- Turbidity: double (nullable = true)\n",
      " |-- Potability: integer (nullable = true)\n",
      "\n"
     ]
    }
   ],
   "source": [
    "data.printSchema()"
   ]
  },
  {
   "cell_type": "code",
   "execution_count": 36,
   "id": "6aa8ee41",
   "metadata": {},
   "outputs": [
    {
     "name": "stdout",
     "output_type": "stream",
     "text": [
      "+---+--------+------+-----------+-------+------------+--------------+---------------+---------+----------+\n",
      "| ph|Hardness|Solids|Chloramines|Sulfate|Conductivity|Organic_carbon|Trihalomethanes|Turbidity|Potability|\n",
      "+---+--------+------+-----------+-------+------------+--------------+---------------+---------+----------+\n",
      "|491|       0|     0|          0|    781|           0|             0|            162|        0|         0|\n",
      "+---+--------+------+-----------+-------+------------+--------------+---------------+---------+----------+\n",
      "\n"
     ]
    }
   ],
   "source": [
    "from pyspark.sql.functions import isnan,count,when,col\n",
    "data.select([count(when(col(c).isNull(),c)).alias(c) for c in data.columns]).show()"
   ]
  },
  {
   "cell_type": "code",
   "execution_count": 37,
   "id": "837e9bc3",
   "metadata": {},
   "outputs": [],
   "source": [
    "#TO fill null values \n",
    "from pyspark.ml.feature import Imputer\n",
    "imputer = Imputer(inputCols = ['ph','Sulfate','Trihalomethanes'],\n",
    "                 outputCols =['{}_imputed'.format(c) for c in ['ph','Sulfate','Trihalomethanes']]).setStrategy('mean')"
   ]
  },
  {
   "cell_type": "code",
   "execution_count": 38,
   "id": "b5cfbd19",
   "metadata": {},
   "outputs": [
    {
     "name": "stdout",
     "output_type": "stream",
     "text": [
      "+-----------------+------------------+------------------+-----------------+------------------+------------------+------------------+------------------+------------------+----------+-----------------+------------------+-----------------------+\n",
      "|               ph|          Hardness|            Solids|      Chloramines|           Sulfate|      Conductivity|    Organic_carbon|   Trihalomethanes|         Turbidity|Potability|       ph_imputed|   Sulfate_imputed|Trihalomethanes_imputed|\n",
      "+-----------------+------------------+------------------+-----------------+------------------+------------------+------------------+------------------+------------------+----------+-----------------+------------------+-----------------------+\n",
      "|             null| 204.8904554713363|20791.318980747026|7.300211873184757|368.51644134980336| 564.3086541722439|  10.3797830780847|  86.9909704615088|2.9631353806316407|         0|7.080794504276819|368.51644134980336|       86.9909704615088|\n",
      "| 3.71608007538699|129.42292051494425|18630.057857970347|   6.635245883862|              null| 592.8853591348523|15.180013116357259| 56.32907628451764| 4.500656274942408|         0| 3.71608007538699| 333.7757766108134|      56.32907628451764|\n",
      "|8.099124189298397|224.23625939355776|19909.541732292393|9.275883602694089|              null| 418.6062130644815|16.868636929550973| 66.42009251176368|3.0559337496641685|         0|8.099124189298397| 333.7757766108134|      66.42009251176368|\n",
      "|8.316765884214679|214.37339408562252|22018.417440775294| 8.05933237743854|356.88613564305666| 363.2665161642437|18.436524495493302|100.34167436508008| 4.628770536837084|         0|8.316765884214679|356.88613564305666|     100.34167436508008|\n",
      "|9.092223456290965|181.10150923612525| 17978.98633892625|6.546599974207941|310.13573752420444|398.41081338184466|11.558279443446395|31.997992727424737| 4.075075425430034|         0|9.092223456290965|310.13573752420444|     31.997992727424737|\n",
      "+-----------------+------------------+------------------+-----------------+------------------+------------------+------------------+------------------+------------------+----------+-----------------+------------------+-----------------------+\n",
      "only showing top 5 rows\n",
      "\n"
     ]
    }
   ],
   "source": [
    "data = imputer.fit(data).transform(data)\n",
    "data.show(5)"
   ]
  },
  {
   "cell_type": "code",
   "execution_count": 39,
   "id": "6efc326b",
   "metadata": {},
   "outputs": [],
   "source": [
    "data = data.drop('ph','Sulfate','Trihalomethanes')"
   ]
  },
  {
   "cell_type": "code",
   "execution_count": 40,
   "id": "4ec30f1d",
   "metadata": {},
   "outputs": [
    {
     "name": "stdout",
     "output_type": "stream",
     "text": [
      "+------------------+------------------+-----------------+------------------+------------------+------------------+----------+-----------------+------------------+-----------------------+\n",
      "|          Hardness|            Solids|      Chloramines|      Conductivity|    Organic_carbon|         Turbidity|Potability|       ph_imputed|   Sulfate_imputed|Trihalomethanes_imputed|\n",
      "+------------------+------------------+-----------------+------------------+------------------+------------------+----------+-----------------+------------------+-----------------------+\n",
      "| 204.8904554713363|20791.318980747026|7.300211873184757| 564.3086541722439|  10.3797830780847|2.9631353806316407|         0|7.080794504276819|368.51644134980336|       86.9909704615088|\n",
      "|129.42292051494425|18630.057857970347|   6.635245883862| 592.8853591348523|15.180013116357259| 4.500656274942408|         0| 3.71608007538699| 333.7757766108134|      56.32907628451764|\n",
      "|224.23625939355776|19909.541732292393|9.275883602694089| 418.6062130644815|16.868636929550973|3.0559337496641685|         0|8.099124189298397| 333.7757766108134|      66.42009251176368|\n",
      "|214.37339408562252|22018.417440775294| 8.05933237743854| 363.2665161642437|18.436524495493302| 4.628770536837084|         0|8.316765884214679|356.88613564305666|     100.34167436508008|\n",
      "|181.10150923612525| 17978.98633892625|6.546599974207941|398.41081338184466|11.558279443446395| 4.075075425430034|         0|9.092223456290965|310.13573752420444|     31.997992727424737|\n",
      "+------------------+------------------+-----------------+------------------+------------------+------------------+----------+-----------------+------------------+-----------------------+\n",
      "only showing top 5 rows\n",
      "\n"
     ]
    }
   ],
   "source": [
    "data.show(5)"
   ]
  },
  {
   "cell_type": "code",
   "execution_count": 41,
   "id": "035bf994",
   "metadata": {},
   "outputs": [
    {
     "data": {
      "text/plain": [
       "10"
      ]
     },
     "execution_count": 41,
     "metadata": {},
     "output_type": "execute_result"
    }
   ],
   "source": [
    "len(data.columns)"
   ]
  },
  {
   "cell_type": "code",
   "execution_count": 42,
   "id": "d558abf0",
   "metadata": {},
   "outputs": [
    {
     "data": {
      "text/plain": [
       "['Hardness',\n",
       " 'Solids',\n",
       " 'Chloramines',\n",
       " 'Conductivity',\n",
       " 'Organic_carbon',\n",
       " 'Turbidity',\n",
       " 'Potability',\n",
       " 'ph_imputed',\n",
       " 'Sulfate_imputed']"
      ]
     },
     "execution_count": 42,
     "metadata": {},
     "output_type": "execute_result"
    }
   ],
   "source": [
    "cols = data.columns\n",
    "cols = cols[:9]\n",
    "cols"
   ]
  },
  {
   "cell_type": "code",
   "execution_count": 43,
   "id": "bb73b29d",
   "metadata": {},
   "outputs": [
    {
     "name": "stdout",
     "output_type": "stream",
     "text": [
      "+------------------+------------------+-----------------+------------------+------------------+------------------+----------+-----------------+------------------+-----------------------+--------------------+\n",
      "|          Hardness|            Solids|      Chloramines|      Conductivity|    Organic_carbon|         Turbidity|Potability|       ph_imputed|   Sulfate_imputed|Trihalomethanes_imputed|Independent Features|\n",
      "+------------------+------------------+-----------------+------------------+------------------+------------------+----------+-----------------+------------------+-----------------------+--------------------+\n",
      "| 204.8904554713363|20791.318980747026|7.300211873184757| 564.3086541722439|  10.3797830780847|2.9631353806316407|         0|7.080794504276819|368.51644134980336|       86.9909704615088|[204.890455471336...|\n",
      "|129.42292051494425|18630.057857970347|   6.635245883862| 592.8853591348523|15.180013116357259| 4.500656274942408|         0| 3.71608007538699| 333.7757766108134|      56.32907628451764|[129.422920514944...|\n",
      "|224.23625939355776|19909.541732292393|9.275883602694089| 418.6062130644815|16.868636929550973|3.0559337496641685|         0|8.099124189298397| 333.7757766108134|      66.42009251176368|[224.236259393557...|\n",
      "|214.37339408562252|22018.417440775294| 8.05933237743854| 363.2665161642437|18.436524495493302| 4.628770536837084|         0|8.316765884214679|356.88613564305666|     100.34167436508008|[214.373394085622...|\n",
      "|181.10150923612525| 17978.98633892625|6.546599974207941|398.41081338184466|11.558279443446395| 4.075075425430034|         0|9.092223456290965|310.13573752420444|     31.997992727424737|[181.101509236125...|\n",
      "+------------------+------------------+-----------------+------------------+------------------+------------------+----------+-----------------+------------------+-----------------------+--------------------+\n",
      "only showing top 5 rows\n",
      "\n"
     ]
    }
   ],
   "source": [
    "from pyspark.ml.feature import VectorAssembler\n",
    "assembler = VectorAssembler(inputCols = cols,outputCol = 'Independent Features')\n",
    "output = assembler.transform(data)\n",
    "output.show(5)"
   ]
  },
  {
   "cell_type": "code",
   "execution_count": 44,
   "id": "08a418ec",
   "metadata": {},
   "outputs": [
    {
     "name": "stdout",
     "output_type": "stream",
     "text": [
      "+--------------------+----------+\n",
      "|Independent Features|Potability|\n",
      "+--------------------+----------+\n",
      "|[204.890455471336...|         0|\n",
      "|[129.422920514944...|         0|\n",
      "|[224.236259393557...|         0|\n",
      "|[214.373394085622...|         0|\n",
      "|[181.101509236125...|         0|\n",
      "+--------------------+----------+\n",
      "only showing top 5 rows\n",
      "\n"
     ]
    }
   ],
   "source": [
    "finilized_data = output.select('Independent Features','Potability')\n",
    "finilized_data.show(5)"
   ]
  },
  {
   "cell_type": "code",
   "execution_count": 46,
   "id": "fe923593",
   "metadata": {},
   "outputs": [
    {
     "name": "stdout",
     "output_type": "stream",
     "text": [
      "+--------------------+----------+--------------------+--------------------+----------+\n",
      "|Independent Features|Potability|       rawPrediction|         probability|prediction|\n",
      "+--------------------+----------+--------------------+--------------------+----------+\n",
      "|[47.432,19237.949...|         1|[-18.877288446527...|[6.33428779796262...|       1.0|\n",
      "|[77.4595861004437...|         1|[-18.905443034270...|[6.15843567552977...|       1.0|\n",
      "|[81.7108952702466...|         1|[-18.895179981135...|[6.22196547492403...|       1.0|\n",
      "|[98.4529305095862...|         0|[19.0168288298188...|[0.99999999449070...|       0.0|\n",
      "|[103.173586978107...|         0|[19.0188399256736...|[0.99999999450177...|       0.0|\n",
      "|[107.341981878690...|         1|[-18.874831426403...|[6.34987040600098...|       1.0|\n",
      "|[111.246411596634...|         1|[-18.859525321967...|[6.44780980825371...|       1.0|\n",
      "|[112.820253975762...|         0|[19.0905208822833...|[0.99999999488209...|       0.0|\n",
      "|[113.024471731305...|         0|[19.0171368970819...|[0.99999999449240...|       0.0|\n",
      "|[113.175964607270...|         1|[-18.835284249299...|[6.60602149643851...|       1.0|\n",
      "+--------------------+----------+--------------------+--------------------+----------+\n",
      "only showing top 10 rows\n",
      "\n"
     ]
    }
   ],
   "source": [
    "#model\n",
    "from pyspark.ml.classification import LogisticRegression\n",
    "\n",
    "#train_test_split\n",
    "train_data,test_data = finilized_data.randomSplit([0.75,0.25])\n",
    "LR = LogisticRegression(labelCol = 'Potability',featuresCol = 'Independent Features')\n",
    "LR  = LR.fit(train_data)\n",
    "pred_test = LR.transform(test_data)\n",
    "pred_test.show(10)"
   ]
  },
  {
   "cell_type": "code",
   "execution_count": 47,
   "id": "fdd4b6b3",
   "metadata": {},
   "outputs": [
    {
     "name": "stdout",
     "output_type": "stream",
     "text": [
      "+----------+----------+\n",
      "|Potability|prediction|\n",
      "+----------+----------+\n",
      "|         1|       1.0|\n",
      "|         1|       1.0|\n",
      "|         1|       1.0|\n",
      "|         0|       0.0|\n",
      "|         0|       0.0|\n",
      "|         1|       1.0|\n",
      "|         1|       1.0|\n",
      "|         0|       0.0|\n",
      "|         0|       0.0|\n",
      "|         1|       1.0|\n",
      "+----------+----------+\n",
      "only showing top 10 rows\n",
      "\n"
     ]
    }
   ],
   "source": [
    "pred_test.select('Potability','prediction').show(10)"
   ]
  },
  {
   "cell_type": "code",
   "execution_count": 48,
   "id": "487af5a8",
   "metadata": {},
   "outputs": [],
   "source": [
    "lr_summary = LR.summary"
   ]
  },
  {
   "cell_type": "code",
   "execution_count": 49,
   "id": "d426e3cc",
   "metadata": {},
   "outputs": [
    {
     "name": "stdout",
     "output_type": "stream",
     "text": [
      "100.0\n"
     ]
    }
   ],
   "source": [
    "#overall accuracy of classification model\n",
    "print(lr_summary.accuracy*100)"
   ]
  },
  {
   "cell_type": "code",
   "execution_count": 50,
   "id": "28ede6c1",
   "metadata": {},
   "outputs": [
    {
     "name": "stdout",
     "output_type": "stream",
     "text": [
      "areaUnderROC: 100.0\n"
     ]
    }
   ],
   "source": [
    "print('areaUnderROC:',lr_summary.areaUnderROC*100)"
   ]
  },
  {
   "cell_type": "code",
   "execution_count": 51,
   "id": "82130d42",
   "metadata": {},
   "outputs": [
    {
     "name": "stdout",
     "output_type": "stream",
     "text": [
      "precision: [1.0, 1.0]\n"
     ]
    }
   ],
   "source": [
    "#precision of both classes\n",
    "print('precision:',lr_summary.precisionByLabel)"
   ]
  },
  {
   "cell_type": "code",
   "execution_count": 52,
   "id": "fb540336",
   "metadata": {},
   "outputs": [
    {
     "name": "stdout",
     "output_type": "stream",
     "text": [
      "recall: [1.0, 1.0]\n"
     ]
    }
   ],
   "source": [
    "#recall of both classes\n",
    "print('recall:',lr_summary.recallByLabel)"
   ]
  },
  {
   "cell_type": "code",
   "execution_count": 53,
   "id": "93598e9d",
   "metadata": {},
   "outputs": [
    {
     "name": "stdout",
     "output_type": "stream",
     "text": [
      "accuracy: 100.0\n"
     ]
    }
   ],
   "source": [
    "from pyspark.ml.evaluation import MulticlassClassificationEvaluator\n",
    "evaluator = MulticlassClassificationEvaluator(labelCol = 'Potability',predictionCol = 'prediction',metricName = 'accuracy')\n",
    "accuracy = evaluator.evaluate(pred_test)\n",
    "print('accuracy:',accuracy*100)"
   ]
  },
  {
   "cell_type": "code",
   "execution_count": null,
   "id": "2291d81f",
   "metadata": {},
   "outputs": [],
   "source": []
  }
 ],
 "metadata": {
  "kernelspec": {
   "display_name": "Python 3 (ipykernel)",
   "language": "python",
   "name": "python3"
  },
  "language_info": {
   "codemirror_mode": {
    "name": "ipython",
    "version": 3
   },
   "file_extension": ".py",
   "mimetype": "text/x-python",
   "name": "python",
   "nbconvert_exporter": "python",
   "pygments_lexer": "ipython3",
   "version": "3.9.13"
  }
 },
 "nbformat": 4,
 "nbformat_minor": 5
}
